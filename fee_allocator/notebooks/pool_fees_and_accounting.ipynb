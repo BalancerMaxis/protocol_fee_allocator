{
 "cells": [
  {
   "cell_type": "markdown",
   "id": "e739385af75b2478",
   "metadata": {
    "collapsed": false,
    "jp-MarkdownHeadingCollapsed": true
   },
   "source": [
    "## Collecting protocol fees across Balancer core pools on all networks\n",
    "- Spreadsheet as reference: https://docs.google.com/spreadsheets/d/1xwUPpbYq7woVOU9vQ8EB8MY75I-1mauTLyDVwvKUDKo/edit#gid=0\n",
    "- Collab: https://colab.research.google.com/drive/1vKCvcV5mkL1zwW3565kLSGkBEbt8NsoB?usp=sharing\n"
   ]
  },
  {
   "cell_type": "code",
   "execution_count": 2,
   "outputs": [
    {
     "ename": "KeyError",
     "evalue": "'ALCHEMY_KEY'",
     "output_type": "error",
     "traceback": [
      "\u001B[0;31m---------------------------------------------------------------------------\u001B[0m",
      "\u001B[0;31mKeyError\u001B[0m                                  Traceback (most recent call last)",
      "Cell \u001B[0;32mIn[2], line 10\u001B[0m\n\u001B[1;32m      8\u001B[0m \u001B[38;5;28;01mfrom\u001B[39;00m \u001B[38;5;21;01mfee_allocator\u001B[39;00m\u001B[38;5;21;01m.\u001B[39;00m\u001B[38;5;21;01mhelpers\u001B[39;00m \u001B[38;5;28;01mimport\u001B[39;00m get_block_by_ts\n\u001B[1;32m      9\u001B[0m \u001B[38;5;28;01mfrom\u001B[39;00m \u001B[38;5;21;01mfee_allocator\u001B[39;00m\u001B[38;5;21;01m.\u001B[39;00m\u001B[38;5;21;01mhelpers\u001B[39;00m \u001B[38;5;28;01mimport\u001B[39;00m get_twap_bpt_price\n\u001B[0;32m---> 10\u001B[0m \u001B[38;5;28;01mfrom\u001B[39;00m \u001B[38;5;21;01mfee_allocator\u001B[39;00m\u001B[38;5;21;01m.\u001B[39;00m\u001B[38;5;21;01mconfig_file\u001B[39;00m \u001B[38;5;28;01mimport\u001B[39;00m Chains\n\u001B[1;32m     11\u001B[0m \u001B[38;5;28;01mfrom\u001B[39;00m \u001B[38;5;21;01mfee_allocator\u001B[39;00m\u001B[38;5;21;01m.\u001B[39;00m\u001B[38;5;21;01mconfig_file\u001B[39;00m \u001B[38;5;28;01mimport\u001B[39;00m WEB3_INSTANCES\n\u001B[1;32m     12\u001B[0m \u001B[38;5;28;01mfrom\u001B[39;00m \u001B[38;5;21;01mfee_allocator\u001B[39;00m\u001B[38;5;21;01m.\u001B[39;00m\u001B[38;5;21;01mconfig_file\u001B[39;00m \u001B[38;5;28;01mimport\u001B[39;00m REROUTE_CONFIG\n",
      "File \u001B[0;32m~/PycharmProjects/protocol_fee_allocator/fee_allocator/config_file.py:34\u001B[0m\n\u001B[1;32m     30\u001B[0m     AVALANCHE \u001B[38;5;241m=\u001B[39m \u001B[38;5;124m\"\u001B[39m\u001B[38;5;124mavalanche\u001B[39m\u001B[38;5;124m\"\u001B[39m\n\u001B[1;32m     33\u001B[0m INFURA_KEY \u001B[38;5;241m=\u001B[39m os\u001B[38;5;241m.\u001B[39menviron[\u001B[38;5;124m'\u001B[39m\u001B[38;5;124mWEB3_INFURA_PROJECT_ID\u001B[39m\u001B[38;5;124m'\u001B[39m]\n\u001B[0;32m---> 34\u001B[0m ALCHEMY_KEY \u001B[38;5;241m=\u001B[39m \u001B[43mos\u001B[49m\u001B[38;5;241;43m.\u001B[39;49m\u001B[43menviron\u001B[49m\u001B[43m[\u001B[49m\u001B[38;5;124;43m'\u001B[39;49m\u001B[38;5;124;43mALCHEMY_KEY\u001B[39;49m\u001B[38;5;124;43m'\u001B[39;49m\u001B[43m]\u001B[49m\n\u001B[1;32m     35\u001B[0m WEB3_INSTANCES \u001B[38;5;241m=\u001B[39m Munch({\n\u001B[1;32m     36\u001B[0m     \u001B[38;5;124m\"\u001B[39m\u001B[38;5;124mbase\u001B[39m\u001B[38;5;124m\"\u001B[39m: Web3(Web3\u001B[38;5;241m.\u001B[39mHTTPProvider(\u001B[38;5;124mf\u001B[39m\u001B[38;5;124m\"\u001B[39m\u001B[38;5;124mhttps://base.publicnode.com\u001B[39m\u001B[38;5;124m\"\u001B[39m)),\n\u001B[1;32m     37\u001B[0m     \u001B[38;5;124m\"\u001B[39m\u001B[38;5;124mgnosis\u001B[39m\u001B[38;5;124m\"\u001B[39m: Web3(Web3\u001B[38;5;241m.\u001B[39mHTTPProvider(\u001B[38;5;124mf\u001B[39m\u001B[38;5;124m\"\u001B[39m\u001B[38;5;124mhttps://gnosischain-rpc.gateway.pokt.network\u001B[39m\u001B[38;5;124m\"\u001B[39m)),\n\u001B[0;32m   (...)\u001B[0m\n\u001B[1;32m     46\u001B[0m     \u001B[38;5;124m\"\u001B[39m\u001B[38;5;124msepolia\u001B[39m\u001B[38;5;124m\"\u001B[39m: Web3(Web3\u001B[38;5;241m.\u001B[39mHTTPProvider(\u001B[38;5;124mf\u001B[39m\u001B[38;5;124m\"\u001B[39m\u001B[38;5;124mhttps://sepolia.infura.io/v3/\u001B[39m\u001B[38;5;132;01m{\u001B[39;00mINFURA_KEY\u001B[38;5;132;01m}\u001B[39;00m\u001B[38;5;124m\"\u001B[39m)),\n\u001B[1;32m     47\u001B[0m })\n\u001B[1;32m     48\u001B[0m \u001B[38;5;66;03m#WEB3_INSTANCES = Munch()\u001B[39;00m\n\u001B[1;32m     49\u001B[0m \u001B[38;5;66;03m#WEB3_INSTANCES[Chains.MAINNET.value] = Web3(Web3.HTTPProvider(os.environ[\"ETHNODEURL\"]))\u001B[39;00m\n\u001B[1;32m     50\u001B[0m \u001B[38;5;66;03m## poly_web3 = Web3(Web3.HTTPProvider(\"https://polygon-rpc.com\"))\u001B[39;00m\n\u001B[0;32m   (...)\u001B[0m\n\u001B[1;32m     64\u001B[0m \n\u001B[1;32m     65\u001B[0m \u001B[38;5;66;03m# Define constants for Arbitrum:\u001B[39;00m\n",
      "File \u001B[0;32m/opt/homebrew/Cellar/python@3.9/3.9.16/Frameworks/Python.framework/Versions/3.9/lib/python3.9/os.py:679\u001B[0m, in \u001B[0;36m_Environ.__getitem__\u001B[0;34m(self, key)\u001B[0m\n\u001B[1;32m    676\u001B[0m     value \u001B[38;5;241m=\u001B[39m \u001B[38;5;28mself\u001B[39m\u001B[38;5;241m.\u001B[39m_data[\u001B[38;5;28mself\u001B[39m\u001B[38;5;241m.\u001B[39mencodekey(key)]\n\u001B[1;32m    677\u001B[0m \u001B[38;5;28;01mexcept\u001B[39;00m \u001B[38;5;167;01mKeyError\u001B[39;00m:\n\u001B[1;32m    678\u001B[0m     \u001B[38;5;66;03m# raise KeyError with the original key value\u001B[39;00m\n\u001B[0;32m--> 679\u001B[0m     \u001B[38;5;28;01mraise\u001B[39;00m \u001B[38;5;167;01mKeyError\u001B[39;00m(key) \u001B[38;5;28;01mfrom\u001B[39;00m \u001B[38;5;28;01mNone\u001B[39;00m\n\u001B[1;32m    680\u001B[0m \u001B[38;5;28;01mreturn\u001B[39;00m \u001B[38;5;28mself\u001B[39m\u001B[38;5;241m.\u001B[39mdecodevalue(value)\n",
      "\u001B[0;31mKeyError\u001B[0m: 'ALCHEMY_KEY'"
     ]
    }
   ],
   "source": [
    "from dotenv import load_dotenv\n",
    "\n",
    "load_dotenv()\n",
    "import datetime\n",
    "\n",
    "import pandas as pd\n",
    "\n",
    "from fee_allocator.helpers import get_block_by_ts\n",
    "from fee_allocator.helpers import get_twap_bpt_price\n",
    "from fee_allocator.config_file import Chains\n",
    "from fee_allocator.config_file import WEB3_INSTANCES\n",
    "from fee_allocator.config_file import REROUTE_CONFIG\n",
    "from fee_allocator.config_file import FEES_CONSTANTS\n",
    "from fee_allocator.config_file import CORE_POOLS\n",
    "\n",
    "MIN_AURA_INCENTIVE = FEES_CONSTANTS['min_aura_incentive']\n",
    "MIN_INCENTIVE = FEES_CONSTANTS['min_vote_incentive_amount']\n",
    "\n",
    "TARGET_BLOCKS = {}\n",
    "timestamp_now = 1697148000\n",
    "timestamp_2_weeks_ago = timestamp_now - (2 * 7 * 24 * 60 * 60)\n",
    "datetime_now = datetime.datetime.fromtimestamp(timestamp_now)\n",
    "datetime_2_weeks_ago = datetime.datetime.fromtimestamp(timestamp_2_weeks_ago)\n",
    "\n",
    "target_blocks = {}\n",
    "bpt_twap_prices = {chain.value: {} for chain in Chains}\n",
    "# Collect BPT prices for 2 weeks ago and now for all relevant pools and chains\n",
    "for chain in Chains:\n",
    "    target_blocks[chain.value] = (\n",
    "        get_block_by_ts(timestamp_now, chain.value),  # Block now\n",
    "        get_block_by_ts(timestamp_2_weeks_ago, chain.value)  # Block 2 weeks ago\n",
    "    )\n",
    "    print(f\"Collecting bpt prices for {chain.value}\")\n",
    "    pools = CORE_POOLS.get(chain.value, None)\n",
    "    if pools is None:\n",
    "        continue\n",
    "    for core_pool in pools:\n",
    "        bpt_twap_prices[chain.value][core_pool] = get_twap_bpt_price(\n",
    "            core_pool, chain.value, getattr(WEB3_INSTANCES, chain.value),\n",
    "            start_date=datetime.datetime.fromtimestamp(timestamp_now), block_number=target_blocks[chain.value][0]\n",
    "        )"
   ],
   "metadata": {
    "collapsed": false,
    "ExecuteTime": {
     "end_time": "2023-10-17T13:33:19.157984Z",
     "start_time": "2023-10-17T13:33:18.942056Z"
    }
   },
   "id": "35ed880620957622"
  },
  {
   "cell_type": "markdown",
   "source": [
    "## Fetching fees and other data from the Balancer subgraphs"
   ],
   "metadata": {
    "collapsed": false
   },
   "id": "eaee3cee27611a5d"
  },
  {
   "cell_type": "code",
   "execution_count": null,
   "outputs": [],
   "source": [
    "from fee_allocator.config_file import BALANCER_GRAPH_URLS\n",
    "from fee_allocator.helpers import get_balancer_pool_snapshots\n",
    "from typing import Dict\n",
    "\n",
    "pool_snapshots = {}\n",
    "for chain in Chains:\n",
    "    pool_snapshots[chain.value] = (\n",
    "        get_balancer_pool_snapshots(target_blocks[chain.value][0], BALANCER_GRAPH_URLS[chain.value]),  # now\n",
    "        get_balancer_pool_snapshots(target_blocks[chain.value][1], BALANCER_GRAPH_URLS[chain.value]),  # 2 weeks ago\n",
    "    )"
   ],
   "metadata": {
    "collapsed": false,
    "ExecuteTime": {
     "end_time": "2023-10-17T13:33:19.158335Z",
     "start_time": "2023-10-17T13:33:19.158305Z"
    }
   },
   "id": "72533e0b2d56cc09"
  },
  {
   "cell_type": "markdown",
   "source": [
    "## Extract fee data for CORE pools:\n"
   ],
   "metadata": {
    "collapsed": false
   },
   "id": "134d6a59a29dad77"
  },
  {
   "cell_type": "code",
   "execution_count": null,
   "outputs": [],
   "source": [
    "from collections import defaultdict\n",
    "from decimal import Decimal\n",
    "from fee_allocator.helpers import fetch_token_price_balgql\n",
    "\n",
    "\n",
    "def collect_fee_info(pools: list[str], chain: Chains, pools_now: list[dict], pools_shifted: list[dict],\n",
    "                     start_date: datetime.datetime) -> Dict[str, Dict]:\n",
    "    \"\"\"\n",
    "    Collects fee info for all pools in the list. Returns dictionary with pool id as key and fee info as value \n",
    "    \"\"\"\n",
    "    fees = {}\n",
    "    token_fees = defaultdict(list)\n",
    "    for pool in pools:\n",
    "        current_fees_snapshots = [x for x in pools_now if x['pool']['id'] == pool]\n",
    "        current_fees_snapshots.sort(key=lambda x: x['timestamp'], reverse=True)\n",
    "        fees_2_weeks_ago = [x for x in pools_shifted if x['pool']['id'] == pool]\n",
    "        fees_2_weeks_ago.sort(key=lambda x: x['timestamp'], reverse=True)\n",
    "        # If pools doesn't have current fees it means it was not created yet, so we skip it\n",
    "        if not current_fees_snapshots:\n",
    "            continue\n",
    "        pool_snapshot_now = current_fees_snapshots[0]\n",
    "        pool_snapshot_2_weeks_ago = fees_2_weeks_ago[0]\n",
    "        # Now we need to collect token fee info. Let's start with BPT tokens, which is Balancer pool token. Notice,\n",
    "        # That totalProtocolFeePaidInBPT can be null, so we need to check for that\n",
    "        bpt_token_fee = 0\n",
    "        token_fees_in_usd = 0\n",
    "        bpt_price_usd = bpt_twap_prices[chain.value][pool] or 0\n",
    "        if pool_snapshot_now['pool']['totalProtocolFeePaidInBPT']:\n",
    "            bpt_token_fee = float(pool_snapshot_now['pool']['totalProtocolFeePaidInBPT']) - float(\n",
    "                pool_snapshot_2_weeks_ago['pool']['totalProtocolFeePaidInBPT'] or 0)  # If 2 weeks ago is null, set to 0\n",
    "        else:\n",
    "            # Collect fee info about fees paid in pool tokens. Pool tokens fee info is in pool.tokens dictionary. This will be separate dictionary\n",
    "            for token_data in pool_snapshot_now['pool']['tokens']:\n",
    "                token_data_2_weeks_ago = \\\n",
    "                    [t for t in pool_snapshot_2_weeks_ago['pool']['tokens'] if t['address'] == token_data['address']][0]\n",
    "                token_fee = float(token_data.get('paidProtocolFees', None)) - float(\n",
    "                    token_data_2_weeks_ago.get('paidProtocolFees', None) or 0)\n",
    "                # Get twap token price from Balancer API\n",
    "                token_price = fetch_token_price_balgql(token_data['address'], chain.value, start_date) or 0\n",
    "                token_fees_in_usd += Decimal(token_fee) * Decimal(token_price)\n",
    "        fees[pool_snapshot_now['pool']['id']] = {\n",
    "            'symbol': pool_snapshot_now['pool']['symbol'],\n",
    "            'pool_addr': pool_snapshot_now['pool']['address'],\n",
    "            'bpt_token_fee': round(bpt_token_fee, 2),\n",
    "            # One of two fields below should always be 0 because fees are taken in either BPT or pool tokens\n",
    "            'bpt_token_fee_in_usd': round(Decimal(bpt_token_fee) * bpt_price_usd, 2),\n",
    "            'token_fees_in_usd': round(token_fees_in_usd, 2),\n",
    "            'chain': chain.value,\n",
    "            'token_fees': token_fees[pool_snapshot_now['pool']['symbol']]\n",
    "        }\n",
    "    return fees\n",
    "\n",
    "\n",
    "collected_fees = {}\n",
    "\n",
    "for chain in Chains:\n",
    "    core_pools = CORE_POOLS.get(chain.value, None)\n",
    "    if not core_pools:\n",
    "        continue\n",
    "    collected_fees[chain.value] = collect_fee_info(core_pools, chain, pool_snapshots[chain.value][0],\n",
    "                                                   pool_snapshots[chain.value][1], datetime_now)\n",
    "# Convert to dataframe, sort by chain and pool fee\n",
    "joint_fees = {**collected_fees[Chains.MAINNET.value], **collected_fees[Chains.ARBITRUM.value],\n",
    "              **collected_fees[Chains.POLYGON.value], **collected_fees[Chains.BASE.value],\n",
    "              **collected_fees[Chains.AVALANCHE.value], **collected_fees.get(Chains.GNOSIS.value, {})}\n",
    "joint_fees_df = pd.DataFrame.from_dict(joint_fees, orient='index')"
   ],
   "metadata": {
    "collapsed": false,
    "ExecuteTime": {
     "end_time": "2023-10-17T13:33:19.161298Z",
     "start_time": "2023-10-17T13:33:19.160431Z"
    }
   },
   "id": "aa6a71cd90de643d"
  },
  {
   "cell_type": "markdown",
   "source": [
    "## Now let's calculate incentives paid to the pools and save them to csv"
   ],
   "metadata": {
    "collapsed": false
   },
   "id": "17a0fa53274c8555"
  },
  {
   "cell_type": "code",
   "execution_count": null,
   "outputs": [],
   "source": [
    "from fee_allocator.helpers import calculate_aura_vebal_share\n",
    "import json\n",
    "\n",
    "aura_vebal_share = calculate_aura_vebal_share(WEB3_INSTANCES.mainnet, target_blocks[Chains.MAINNET.value][0])\n",
    "\n",
    "# Incentives are split per chain and per pool, with each pool getting a share of the incentive proportional to its share of fees\n",
    "# paid by all pools on that chain. For example, if pool A paid 10% of all fees on Arbitrum, it will get 10% of the incentives. That 10% will be distributed between aura and vebal, proportional to their share of the incentive.\n",
    "\n",
    "# Load fees from the json file\n",
    "with open(f'../fees_collected/fees_{datetime_2_weeks_ago.date()}_{datetime_now.date()}.json') as f:\n",
    "    FEES_TO_DISTRIBUTE = json.load(f)\n",
    "\n",
    "# Let's calculate share of fees paid by each pool on each chain\n",
    "def calc_and_split_fees(fees: Dict, chain: str, fees_to_distribute: Decimal) -> (Dict[str, Dict], list, Decimal):\n",
    "    incentives_to_redirect = 0\n",
    "    pool_incentives = {}\n",
    "    no_incentive_pools = []\n",
    "    # Calculate pool share in fees\n",
    "    dao_share = Decimal(FEES_CONSTANTS['dao_share_pct'])\n",
    "    vebal_share = Decimal(FEES_CONSTANTS['vebal_share_pct'])\n",
    "    fees_to_distr_wo_dao_vebal = fees_to_distribute - (fees_to_distribute * dao_share) - (\n",
    "            fees_to_distribute * vebal_share)\n",
    "    # Calculate totals\n",
    "    bpt_fees = sum([data['bpt_token_fee_in_usd'] for pool, data in fees.items()])\n",
    "    token_fees = sum([data['token_fees_in_usd'] for pool, data in fees.items()])\n",
    "    total_fees = bpt_fees + token_fees\n",
    "    if not total_fees:\n",
    "        return {}\n",
    "    aura_bal_switch = True\n",
    "    ### First pass to distribute incentives\n",
    "    redirected_incentives= Decimal(0)\n",
    "    for pool, data in fees.items():\n",
    "        pool_fees = data['bpt_token_fee_in_usd'] + data['token_fees_in_usd']\n",
    "        pool_share = pool_fees / Decimal(total_fees)\n",
    "        # If aura incentives is less than 500 USDC, we pay all incentives to balancer\n",
    "        total_incentives = pool_share * fees_to_distr_wo_dao_vebal\n",
    "        if total_incentives < MIN_INCENTIVE:\n",
    "            incentives_to_redirect += total_incentives\n",
    "            no_incentive_pools.append(pool)\n",
    "            total_incentives = 0\n",
    "            redirected_incentives -= total_incentives\n",
    "        fees_to_dao = round(pool_share * fees_to_distribute * dao_share, 2)\n",
    "        fees_to_vebal = round(pool_share * fees_to_distribute * vebal_share, 2)\n",
    "        \n",
    "        # Dump results\n",
    "        pool_incentives[pool] = {\n",
    "            \"chain\": chain,\n",
    "            \"symbol\": data['symbol'],\n",
    "            \"protocol_fees_collected\": pool_fees,\n",
    "            \"fees_to_vebal\": fees_to_vebal,\n",
    "            \"fees_to_dao\": fees_to_dao,\n",
    "            \"total_incentives\": total_incentives,\n",
    "            \"redirected_incentives\": redirected_incentives,\n",
    "            \"reroute_incentives\": Decimal(0),\n",
    "            \"pool_addr\": data['pool_addr'],\n",
    "        }\n",
    "    return pool_incentives, no_incentive_pools, incentives_to_redirect\n",
    "\n",
    "def calc_and_split_incentives(fees: Dict):\n",
    "    for pool, data in fees.items():\n",
    "        total_incentives = data['total_incentives']\n",
    "        aura_incentives = round(total_incentives * aura_vebal_share, 2)\n",
    "        if total_incentives == 0:\n",
    "            continue\n",
    "        if aura_incentives <= Decimal(MIN_AURA_INCENTIVE):\n",
    "            if aura_bal_switch:\n",
    "                aura_incentives = Decimal(0)\n",
    "                bal_incentives = total_incentives\n",
    "                aura_bal_switch = not aura_bal_switch\n",
    "            else:\n",
    "                aura_incentives = total_incentives\n",
    "                bal_incentives = Decimal(0)\n",
    "                aura_bal_switch = not aura_bal_switch\n",
    "\n",
    "        else:\n",
    "            bal_incentives = round(total_incentives * (1 - aura_vebal_share), 2)\n",
    "            aura_incentives = total_incentives -bal_incentives\n",
    "        fees[pool]['aura_incentives'] = aura_incentives\n",
    "        fees[pool]['bal_incentives'] = bal_incentives\n",
    "\n",
    "def re_route_incentives(incentives_data: Dict[str, Dict], chain: Chains) -> Dict[str, Dict]:\n",
    "    \"\"\"\n",
    "    If pool is in re-route configuration, all incentives from that pool should be distributed to destination pool\n",
    "      Ex: {source_pool: destination_pool}\n",
    "    \"\"\"\n",
    "    if not chain.value in REROUTE_CONFIG:\n",
    "        return incentives_data\n",
    "    for pool_id, _data in incentives_data.items():\n",
    "        if pool_id in REROUTE_CONFIG[chain.value]:\n",
    "            # Re route everything to destination pool and set source pool incentives to 0\n",
    "            incentives_data[REROUTE_CONFIG[chain.value][pool_id]]['aura_incentives'] += _data['aura_incentives']\n",
    "            incentives_data[REROUTE_CONFIG[chain.value][pool_id]]['bal_incentives'] += _data['bal_incentives']\n",
    "            # Increase total incentives by aura and bal incentives\n",
    "            incentives_data[REROUTE_CONFIG[chain.value][pool_id]]['total_incentives'] += _data['aura_incentives'] + \\\n",
    "                                                                                         _data[                                                                                             'bal_incentives']\n",
    "            # Mark source pool incentives as rerouted\n",
    "            incentives_data[REROUTE_CONFIG[chain.value][pool_id]]['reroute_incentives'] += _data['total_incentives']\n",
    "            incentives_data[pool_id]['aura_incentives'] = 0\n",
    "            incentives_data[pool_id]['bal_incentives'] = 0\n",
    "    return incentives_data\n",
    "\n",
    "\n",
    "def re_distribute_incentives(incentives_data: Dict[str, Dict], chain: Chains, no_incentive_pools: list, amount_to_redirect: int) -> Dict[str, Dict]:\n",
    "    \"\"\"\n",
    "    If some pools received < min_vote_incentive_amount all incentives from that pool\n",
    "        should be evenly distributed between all pools that received > min_vote_incentive_amount\n",
    "    \"\"\"\n",
    "    # Gather information about what pools need to be redistributed to and work out a total to scale them by.\n",
    "    all_pools = set(incentives_data.keys())\n",
    "    recipient_pools = all_pools.symmetric_difference(set(no_incentive_pools))\n",
    "    new_grand_total = 0\n",
    "    for pool in recipient_pools:\n",
    "        assert incentives_data[pool]['chain'] == chain, \"Chains in incentive data doesn't match working chain\"\n",
    "        new_grand_total += pool['protocol_fees_collected']    \n",
    "    for pool_id in recipient_pools:\n",
    "        _data = incentives_data[pool_id]\n",
    "        # Calculate incentives to receive\n",
    "        incentives_data[pool_id]['total_incentives'] += round(amount_to_redirect * (incentives_data[pool_id]['total_incentives']/new_grand_total), 2)\n",
    "        incentives_data[pool_id]['redirected_incentives'] +=  round(amount_to_redirect * (incentives_data[pool_id]['total_incentives']/new_grand_total), 2)\n",
    "\n",
    "\n",
    "incentives = {}\n",
    "for chain in Chains:\n",
    "    if not collected_fees.get(chain.value):\n",
    "        continue\n",
    "    (_incentives, no_incentive_pools, incentives_to_redirect) = calc_and_split_fees(collected_fees[chain.value], chain.value,\n",
    "                                            Decimal(FEES_TO_DISTRIBUTE[chain.value]))\n",
    "    # Reroute incentives if needed\n",
    "    re_routed_incentives = re_route_incentives(_incentives, chain)\n",
    "    split_incentives = calc_and_split_incentives(re_routed_incentives, chain)\n",
    "    incentives[chain.value] = re_distribute_incentives(calc_and_split_incentives(), chain, no_incentive_pools, incentives_to_redirect)\n",
    "    \n",
    "joint_incentives_data = {**incentives[Chains.MAINNET.value], **incentives[Chains.ARBITRUM.value],\n",
    "                         **incentives[Chains.POLYGON.value], **incentives[Chains.BASE.value],\n",
    "                         **incentives[Chains.AVALANCHE.value]}\n",
    "\n",
    "joint_incentives_data = {k: v for k, v in sorted(joint_incentives_data.items(), key=lambda item: item[1]['chain'])}\n",
    "joint_incentives_df = pd.DataFrame.from_dict(joint_incentives_data, orient='index')\n",
    "# Don't show pool_addr\n",
    "display = joint_incentives_df.drop(columns=['pool_addr'])\n",
    "display_sorted = display.sort_values(by=['chain', 'protocol_fees_collected'], ascending=False)\n",
    "display_sorted.to_csv(f'../allocations/incentives_{datetime_2_weeks_ago.date()}_{datetime_now.date()}.csv')\n",
    "display_sorted"
   ],
   "metadata": {
    "collapsed": false,
    "ExecuteTime": {
     "start_time": "2023-10-17T13:33:19.161923Z"
    }
   },
   "id": "bbc9c7e53f452125"
  },
  {
   "cell_type": "markdown",
   "source": [
    "## Reconcile"
   ],
   "metadata": {
    "collapsed": false
   },
   "id": "28c0ef268ca7b550"
  },
  {
   "cell_type": "code",
   "execution_count": null,
   "outputs": [],
   "source": [
    "all_fees_sum = Decimal(round(sum(FEES_TO_DISTRIBUTE.values()), 2))\n",
    "# Sum of fees_to_vebal + fees_to_dao + aura_incentives + bal_incentives\n",
    "all_incentives_sum = sum([sum([x['fees_to_vebal'], x['fees_to_dao'], x['aura_incentives'], x['bal_incentives']]) for x in\n",
    "                          joint_incentives_data.values()])\n",
    "# Sum each column separately using pandas and create a new dataframe\n",
    "reconcile_df = pd.DataFrame(\n",
    "    {\n",
    "        'fees_to_distribute': [all_fees_sum],\n",
    "        'fees_to_vebal': [sum([x['fees_to_vebal'] for x in joint_incentives_data.values()])],\n",
    "        'fees_to_dao': [sum([x['fees_to_dao'] for x in joint_incentives_data.values()])],\n",
    "        'bal_incentives': [sum([x['bal_incentives'] for x in joint_incentives_data.values()])],\n",
    "        'aura_incentives': [sum([x['aura_incentives'] for x in joint_incentives_data.values()])],\n",
    "        'total_incentives': [all_incentives_sum],\n",
    "        # Reconcile total incentives\n",
    "        'delta': [all_fees_sum - all_incentives_sum],\n",
    "        # SUM should be 0 or close to 0\n",
    "        'redirected(should be around 0)': [sum([x['redirected_incentives'] for x in joint_incentives_data.values()])],\n",
    "    }\n",
    ")\n",
    "reconcile_df"
   ],
   "metadata": {
    "collapsed": false,
    "ExecuteTime": {
     "start_time": "2023-10-17T13:33:19.163162Z"
    }
   },
   "id": "6f62178772c28f43"
  }
 ],
 "metadata": {
  "kernelspec": {
   "display_name": "Python 3 (ipykernel)",
   "language": "python",
   "name": "python3"
  },
  "language_info": {
   "codemirror_mode": {
    "name": "ipython",
    "version": 3
   },
   "file_extension": ".py",
   "mimetype": "text/x-python",
   "name": "python",
   "nbconvert_exporter": "python",
   "pygments_lexer": "ipython3",
   "version": "3.9.16"
  }
 },
 "nbformat": 4,
 "nbformat_minor": 5
}
